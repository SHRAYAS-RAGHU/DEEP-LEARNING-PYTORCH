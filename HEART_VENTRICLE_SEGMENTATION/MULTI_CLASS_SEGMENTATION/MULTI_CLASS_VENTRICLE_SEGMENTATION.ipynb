{
  "nbformat": 4,
  "nbformat_minor": 0,
  "metadata": {
    "colab": {
      "name": "MULTI_CLASS_VENTRICLE_SEGMENTATION.ipynb",
      "provenance": []
    },
    "kernelspec": {
      "name": "python3",
      "display_name": "Python 3"
    },
    "language_info": {
      "name": "python"
    },
    "accelerator": "GPU"
  },
  "cells": [
    {
      "cell_type": "markdown",
      "metadata": {
        "id": "swpIDGlssQRb"
      },
      "source": [
        "Run the below code first to access ToTensorV2\n"
      ]
    },
    {
      "cell_type": "code",
      "metadata": {
        "id": "UJ3mTNm8r8Jc"
      },
      "source": [
        "! pip install albumentations==0.4.6"
      ],
      "execution_count": null,
      "outputs": []
    },
    {
      "cell_type": "code",
      "metadata": {
        "id": "RlpQNasJsBM-"
      },
      "source": [
        "from albumentations.pytorch import ToTensorV2"
      ],
      "execution_count": 2,
      "outputs": []
    },
    {
      "cell_type": "code",
      "metadata": {
        "id": "yZRMklU2sYLO"
      },
      "source": [
        "import torch as T\n",
        "import torch.nn as nn\n",
        "import torch.optim as optim\n",
        "import torchvision\n",
        "from torchvision import  transforms\n",
        "from torch.utils.data import Dataset\n",
        "from torch.utils.data.dataloader import DataLoader\n",
        "from torch.utils.data.sampler import SubsetRandomSampler\n",
        "import numpy as np\n",
        "import cv2\n",
        "from google.colab.patches import cv2_imshow\n",
        "import os\n",
        "from tqdm import tqdm\n",
        "import albumentations as A"
      ],
      "execution_count": 4,
      "outputs": []
    },
    {
      "cell_type": "markdown",
      "metadata": {
        "id": "0gBEfNkoRR1H"
      },
      "source": [
        "Dataset Import"
      ]
    },
    {
      "cell_type": "code",
      "metadata": {
        "id": "ja8ehcYmRRIH",
        "colab": {
          "base_uri": "https://localhost:8080/"
        },
        "outputId": "d3e00971-9d63-40fb-f3bb-e360ffafc60c"
      },
      "source": [
        "from google.colab import drive\n",
        "drive.mount('/gdrive')"
      ],
      "execution_count": 9,
      "outputs": [
        {
          "output_type": "stream",
          "text": [
            "Mounted at /gdrive\n"
          ],
          "name": "stdout"
        }
      ]
    },
    {
      "cell_type": "markdown",
      "metadata": {
        "id": "tEk2hC-DyGxM"
      },
      "source": [
        "Add the downloaded dataset to ur drive and replace the destination to import the datasets."
      ]
    },
    {
      "cell_type": "code",
      "metadata": {
        "id": "ih6pQrVOGIxe"
      },
      "source": [
        "! unzip \"/gdrive/MyDrive/DeepLearning/mriimages.zip\"\n",
        "! unzip \"/gdrive/MyDrive/DeepLearning/segImages.zip\""
      ],
      "execution_count": null,
      "outputs": []
    },
    {
      "cell_type": "markdown",
      "metadata": {
        "id": "vbKH6yWpwQwY"
      },
      "source": [
        "Creating UNET Model"
      ]
    },
    {
      "cell_type": "code",
      "metadata": {
        "id": "t3eBEe1d6DK8"
      },
      "source": [
        "class Double_conv(nn.Module):\n",
        "  def __init__(self, in_channels, out_channels):\n",
        "        super(Double_conv, self).__init__()\n",
        "        self.conv = nn.Sequential(\n",
        "            nn.Conv2d(in_channels, out_channels, 3, 1, 1, bias=False),\n",
        "            nn.BatchNorm2d(out_channels),\n",
        "            nn.ReLU(inplace=True),\n",
        "            nn.Conv2d(out_channels, out_channels, 3, 1, 1, bias=False),\n",
        "            nn.BatchNorm2d(out_channels),\n",
        "            nn.ReLU(inplace=True),\n",
        "        )\n",
        " \n",
        "  def forward(self, x):\n",
        "    return self.conv(x)"
      ],
      "execution_count": 5,
      "outputs": []
    },
    {
      "cell_type": "code",
      "metadata": {
        "id": "YGi710Ly5zd5"
      },
      "source": [
        "class UNET(nn.Module):\n",
        "  def __init__(self, input_dim = 1, output_dim = 4):\n",
        "        super(UNET, self).__init__()\n",
        " \n",
        "        features = [64, 128, 256, 512]\n",
        " \n",
        "        self.ups = nn.ModuleList()\n",
        "        self.downs = nn.ModuleList()\n",
        " \n",
        "        for feature in features:\n",
        "          self.downs.append(Double_conv(input_dim,feature))\n",
        "          input_dim = feature\n",
        " \n",
        "        for feature in reversed(features):\n",
        "          self.ups.append(\n",
        "                  nn.ConvTranspose2d(feature*2, feature, 2, 2)\n",
        "                        )\n",
        "          self.ups.append(Double_conv(feature*2, feature))\n",
        " \n",
        "        self.pool = nn.MaxPool2d(2, 2)\n",
        " \n",
        "        self.bottom = Double_conv(512, 1024)\n",
        "        \n",
        "        self.final = nn.Conv2d(64, output_dim, 1)\n",
        "  \n",
        "  def forward(self, x):\n",
        "    skip_list = []\n",
        " \n",
        "    for down in self.downs:\n",
        "      x = down(x)\n",
        "      skip_list.append(x)\n",
        "      x = self.pool(x)\n",
        " \n",
        "    x = self.bottom(x)\n",
        " \n",
        "    skip_list = skip_list[::-1]\n",
        " \n",
        "    for up in range(0, len(self.ups), 2):\n",
        "      x = self.ups[up](x)\n",
        "      skip_val = skip_list[up//2]\n",
        "      \n",
        "      if x.shape != skip_val.shape:\n",
        "        x = TF.resize(x, size=skip_val.shape[2:])\n",
        " \n",
        "      x = T.cat((skip_val, x), 1)\n",
        "      x = self.ups[up+1](x)\n",
        " \n",
        "    x = self.final(x)\n",
        " \n",
        "    return x"
      ],
      "execution_count": 6,
      "outputs": []
    },
    {
      "cell_type": "markdown",
      "metadata": {
        "id": "pWF5Ao_3wgTz"
      },
      "source": [
        "Importing the Datasets"
      ]
    },
    {
      "cell_type": "code",
      "metadata": {
        "id": "QADRbjaJw60h"
      },
      "source": [
        "class Heart_dataset(Dataset):\n",
        "    def __init__(self, image_dir, mask_dir, transforms = None):\n",
        "        self.image_dir = image_dir\n",
        "        self.mask_dir = mask_dir\n",
        "        self.transforms = transforms\n",
        "        \n",
        "        self.images = os.listdir(image_dir)\n",
        "        self.masks = [\"seg\" + a for a in self.images]\n",
        " \n",
        "    def __len__(self):\n",
        "        return len(self.images)\n",
        " \n",
        "    def __getitem__(self, index):\n",
        "        img_path = os.path.join(self.image_dir, self.images[index])\n",
        "        mask_path = os.path.join(self.mask_dir, self.masks[index])\n",
        "\n",
        "        image = cv2.imread(img_path,0)\n",
        "        mask = cv2.imread(mask_path,0)\n",
        "\n",
        "        image = np.reshape(image, (256,256,1))\n",
        "\n",
        "        bg = cv2.inRange(mask, 0, 70)\n",
        "        mask[bg > 200] = 0\n",
        "        left_ring = cv2.inRange(mask, 127, 190)\n",
        "        mask[left_ring > 200] = 1\n",
        "        right = cv2.inRange(mask, 70, 126)\n",
        "        mask[right > 200] = 2\n",
        "        left_myo = cv2.inRange(mask, 190, 255)\n",
        "        mask[left_myo > 200] = 3\n",
        " \n",
        "        if self.transforms is not None:\n",
        "            aug = self.transforms(image=image, mask=mask)\n",
        "            image = aug[\"image\"]\n",
        "            mask = aug[\"mask\"]\n",
        " \n",
        "        return image, mask.long()"
      ],
      "execution_count": 11,
      "outputs": []
    },
    {
      "cell_type": "code",
      "metadata": {
        "id": "ybj1KUW0wiWv"
      },
      "source": [
        "IMAGE_HEIGHT = 256\n",
        "IMAGE_WIDTH = 256\n",
        "BATCH_SIZE = 4\n",
        " \n",
        "train_transform = A.Compose([A.Resize(height=256,width=256),\n",
        "                             A.Rotate(limit=30,p=1.0,border_mode=cv2.BORDER_CONSTANT),A.HorizontalFlip(p=0.5),\n",
        "                             A.VerticalFlip(p=0.1),A.Normalize((0),(1), 255.0),\n",
        "                             ToTensorV2()])\n",
        "\n",
        "val_transform = A.Compose([A.Resize(height=256,width=256),\n",
        "                           A.Normalize((0),(1), 255.0),\n",
        "                           ToTensorV2()])\n",
        "\n",
        "dir_img = \"/content/mriimages\"\n",
        "dir_mask = \"/content/segImages\"\n",
        " \n",
        "img_list = os.listdir(dir_img)\n",
        "mask_list = os.listdir(dir_mask)\n",
        " \n",
        "size = list(range(len(img_list)))\n",
        "np.random.shuffle(size)\n",
        "train_idx, val_idx = size[200:], size[10:200]\n",
        " \n",
        "train_sampler = SubsetRandomSampler(train_idx)\n",
        "val_sampler = SubsetRandomSampler(val_idx)\n",
        "\n",
        "train_data = Heart_dataset(dir_img, dir_mask, train_transform)\n",
        "train_loader = DataLoader(train_data, BATCH_SIZE, sampler = train_sampler)\n",
        " \n",
        "val_data = Heart_dataset(dir_img, dir_mask, val_transform)\n",
        "val_loader = DataLoader(val_data, BATCH_SIZE, sampler=val_sampler)"
      ],
      "execution_count": 12,
      "outputs": []
    },
    {
      "cell_type": "code",
      "metadata": {
        "colab": {
          "base_uri": "https://localhost:8080/"
        },
        "id": "MoP-IzYczSmH",
        "outputId": "158faf44-3641-46ae-a3dc-e43cf71e149f"
      },
      "source": [
        "model = UNET(1, 4).to(\"cuda\")\n",
        "chkpt = T.load(\"/gdrive/MyDrive/DeepLearning/state_checkpoint.pth.tar\")\n",
        "\n",
        "model.load_state_dict(chkpt[\"state_dict\"])\n",
        "model=model.cuda()\n",
        "\n",
        "loss = nn.CrossEntropyLoss()\n",
        "optimizer = optim.Adam(model.parameters(), lr = 1e-3)\n",
        "\n",
        "scaler = T.cuda.amp.GradScaler()\n",
        "\n",
        "for ep in range(2):\n",
        "  model.train()\n",
        "  loop = tqdm(train_loader)\n",
        "  for batch_idx, (data, target) in enumerate(loop):\n",
        "    data = data.to(\"cuda\")\n",
        "    target = target.to(\"cuda\")\n",
        "\n",
        "    with T.cuda.amp.autocast():\n",
        "      pred = model.forward(data)\n",
        "      err = loss(pred, target)\n",
        "      \n",
        "    optimizer.zero_grad()\n",
        "    scaler.scale(err).backward()\n",
        "    scaler.step(optimizer)\n",
        "    scaler.update()\n",
        "\n",
        "    loop.set_postfix(loss=err.item())\n",
        "  print(\"Trained one epoch\")\n",
        "  #check(model)"
      ],
      "execution_count": 13,
      "outputs": [
        {
          "output_type": "stream",
          "text": [
            "100%|██████████| 402/402 [00:56<00:00,  7.07it/s, loss=0.0229]\n",
            "  0%|          | 1/402 [00:00<00:55,  7.20it/s, loss=0.0146]"
          ],
          "name": "stderr"
        },
        {
          "output_type": "stream",
          "text": [
            "Trained one epoch\n"
          ],
          "name": "stdout"
        },
        {
          "output_type": "stream",
          "text": [
            "100%|██████████| 402/402 [00:58<00:00,  6.89it/s, loss=0.0107]"
          ],
          "name": "stderr"
        },
        {
          "output_type": "stream",
          "text": [
            "Trained one epoch\n"
          ],
          "name": "stdout"
        },
        {
          "output_type": "stream",
          "text": [
            "\n"
          ],
          "name": "stderr"
        }
      ]
    },
    {
      "cell_type": "code",
      "metadata": {
        "colab": {
          "base_uri": "https://localhost:8080/"
        },
        "id": "OqUy1fb6S2q4",
        "outputId": "74c5aaaa-9bba-4d71-dd2b-a47dafc3c315"
      },
      "source": [
        "  accuracy = 0\n",
        "  for i, (x, y) in enumerate(val_loader):\n",
        "    if x.shape[0] >= 4:\n",
        "      x = x.cuda()\n",
        "      y = y.cuda()\n",
        "\n",
        "      preds = T.softmax(model.forward(x), dim = 1)\n",
        "      preds = (preds > 0.5).float()\n",
        "\n",
        "      target = T.eye(4)[y].float()\n",
        "      target = target.permute(0, 3, 1, 2)\n",
        "      target = target.type(preds.type())\n",
        "\n",
        "      correct = (preds == target).sum()\n",
        "      correct = correct / T.numel(preds)\n",
        "\n",
        "      accuracy += correct\n",
        "  accuracy = accuracy / len(val_loader)\n",
        "  print(accuracy)"
      ],
      "execution_count": 14,
      "outputs": [
        {
          "output_type": "stream",
          "text": [
            "tensor(0.9766, device='cuda:0')\n"
          ],
          "name": "stdout"
        }
      ]
    },
    {
      "cell_type": "code",
      "metadata": {
        "id": "irb-eyNniO0U"
      },
      "source": [
        "checkpoint1 = {\n",
        "              \"state_dict\": model.state_dict(),\n",
        "          }\n",
        "T.save(checkpoint1, \"/gdrive/MyDrive/DeepLearning/state_checkpoint.pth.tar\")"
      ],
      "execution_count": 16,
      "outputs": []
    },
    {
      "cell_type": "code",
      "metadata": {
        "id": "EJuIUF7t44MJ"
      },
      "source": [
        "chkpt = T.load(\"/gdrive/MyDrive/DeepLearning/state_checkpoint.pth.tar\")\n",
        "model.load_state_dict(chkpt[\"state_dict\"])\n",
        "model=model.cuda()\n",
        "scaler = T.cuda.amp.GradScaler()\n",
        "model.eval()"
      ],
      "execution_count": null,
      "outputs": []
    },
    {
      "cell_type": "code",
      "metadata": {
        "id": "ZmsqP5D75eFg"
      },
      "source": [
        "test_transform = A.Compose([A.Resize(height=256,width=256),\n",
        "                           A.Normalize((0),(1)),\n",
        "                           ToTensorV2()])\n",
        "test_idx = size[1500:1510]\n",
        "test_sampler = SubsetRandomSampler(test_idx)\n",
        "test_data = Heart_dataset(dir_img, dir_mask, test_transform)\n",
        "test_loader = DataLoader(test_data, batch_size=1,sampler=test_sampler)"
      ],
      "execution_count": 19,
      "outputs": []
    },
    {
      "cell_type": "code",
      "metadata": {
        "colab": {
          "base_uri": "https://localhost:8080/",
          "height": 1000
        },
        "id": "38f7q8aJ5jlH",
        "outputId": "a77c7711-a8ad-4049-bb59-26b0725e36ec"
      },
      "source": [
        "import matplotlib.pyplot as plt\n",
        "row = 5\n",
        "columns = 2\n",
        "fig=plt.figure(figsize=(20, 20))\n",
        "\n",
        "for batch_idx, (images, labels) in enumerate(test_loader):\n",
        "  if batch_idx == 5:\n",
        "    break\n",
        "  p = model(images.cuda())\n",
        "  q = T.argmax(p, dim = 1)\n",
        "  l = labels.squeeze(0).cpu().detach().numpy()\n",
        "  q = q.squeeze(0).cpu().detach().numpy()\n",
        "\n",
        "  image,target = q*80, l*80\n",
        "  \n",
        "  fig.add_subplot(row, columns, batch_idx*columns + 1)\n",
        "  plt.axis('off') \n",
        "  plt.title(\"predicted mask\")\n",
        "  plt.imshow(image, cmap=plt.cm.gray)\n",
        "  \n",
        "  fig.add_subplot(row, columns, batch_idx*columns + 2)\n",
        "  plt.axis('off') \n",
        "  plt.title(\"original mask\")\n",
        "  plt.imshow(target, cmap=plt.cm.gray)"
      ],
      "execution_count": 22,
      "outputs": [
        {
          "output_type": "display_data",
          "data": {
            "image/png": "[encoded data removed]",
            "text/plain": [
              "<Figure size 1440x1440 with 10 Axes>"
            ]
          },
          "metadata": {
            "tags": [],
            "needs_background": "light"
          }
        }
      ]
    }
  ]
}